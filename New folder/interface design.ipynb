{
 "cells": [
  {
   "cell_type": "code",
   "execution_count": 91,
   "id": "57eb62cf",
   "metadata": {},
   "outputs": [],
   "source": [
    "import tkinter\n",
    "window=tkinter.Tk()\n",
    "window.title(\"Mission\")\n",
    "window.geometry('1500x650')\n",
    "window.configure(bg='#004E60')\n",
    "title=tkinter.Label(window,text=\"MotorBick Assistent Tool\",padx='250',font=(\"Arial Bold\",50),background=\"#004E60\",foreground=\"white\")\n",
    "title.pack()\n",
    "midLine=tkinter.Label(window,text=\"Disane to Middle Line :\",padx='10',font=(\"Arial Bold\",25),background=\"#004E60\",foreground=\"white\")\n",
    "distance=tkinter.Label(window,text=\"0\",padx='10',font=(\"Arial Bold\",25),background=\"#004E60\",foreground=\"white\")\n",
    "\n",
    "\n",
    "\n",
    "\n",
    "#buttons\n",
    "\n",
    "startBtn= tkinter.Button(window,text='Enter',font=(\"Arial Bold\",25),bg=\"#100BF7\",fg=\"white\",borderwidth = '4',activebackground=\"red\"\n",
    "                        ,bd='7',relief='raised')\n",
    "\n",
    "\n",
    "\n",
    "midLine.place(x=10,y=140)\n",
    "startBtn.place(x=1200,y=20)\n",
    "distance.place(x=420,y=140)\n",
    "\n",
    "\n",
    "\n",
    "window.mainloop()"
   ]
  },
  {
   "cell_type": "code",
   "execution_count": null,
   "id": "84764a20",
   "metadata": {},
   "outputs": [],
   "source": [
    "\n",
    "startBtn.grid(column=5,row=0)\n",
    "title.grid(column=0,row=0)\n",
    "midLine.grid(column=0,row=4)"
   ]
  }
 ],
 "metadata": {
  "kernelspec": {
   "display_name": "Python 3",
   "language": "python",
   "name": "python3"
  },
  "language_info": {
   "codemirror_mode": {
    "name": "ipython",
    "version": 3
   },
   "file_extension": ".py",
   "mimetype": "text/x-python",
   "name": "python",
   "nbconvert_exporter": "python",
   "pygments_lexer": "ipython3",
   "version": "3.8.8"
  }
 },
 "nbformat": 4,
 "nbformat_minor": 5
}
